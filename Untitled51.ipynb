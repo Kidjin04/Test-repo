{
  "nbformat": 4,
  "nbformat_minor": 0,
  "metadata": {
    "colab": {
      "provenance": [],
      "authorship_tag": "ABX9TyOB2QCdzeF9x4BZqO2bFsvR",
      "include_colab_link": true
    },
    "kernelspec": {
      "name": "python3",
      "display_name": "Python 3"
    },
    "language_info": {
      "name": "python"
    }
  },
  "cells": [
    {
      "cell_type": "markdown",
      "metadata": {
        "id": "view-in-github",
        "colab_type": "text"
      },
      "source": [
        "<a href=\"https://colab.research.google.com/github/Kidjin04/Test-repo/blob/main/Untitled51.ipynb\" target=\"_parent\"><img src=\"https://colab.research.google.com/assets/colab-badge.svg\" alt=\"Open In Colab\"/></a>"
      ]
    },
    {
      "cell_type": "code",
      "execution_count": 5,
      "metadata": {
        "id": "biuDwiyS-pa9",
        "colab": {
          "base_uri": "https://localhost:8080/"
        },
        "outputId": "33221a22-ea0c-4b05-f17a-39e4a3ed3508"
      },
      "outputs": [
        {
          "output_type": "stream",
          "name": "stdout",
          "text": [
            "5\n",
            "3\n",
            "0\n"
          ]
        }
      ],
      "source": [
        "#1. 하나의 정수를 넘겨받아 절대값을 구하여 return하는 함수 f1()을 정의하시오.\n",
        "def f1(num):\n",
        "    if num >= 0:\n",
        "        return num\n",
        "    else:\n",
        "        return -num\n",
        "print(f1(5))    # 출력: 5\n",
        "print(f1(-3))   # 출력: 3\n",
        "print(f1(0))    # 출력: 0"
      ]
    },
    {
      "cell_type": "code",
      "source": [
        "#2. 두 정수를 넘겨받아 더 큰 수를 구하여  return하는 함수 f2()를 정의하시오."
      ],
      "metadata": {
        "id": "Y0QYnjLB_O52",
        "colab": {
          "base_uri": "https://localhost:8080/",
          "height": 137
        },
        "outputId": "b35c9857-5109-43d9-c8b9-671ccb957637"
      },
      "execution_count": null,
      "outputs": [
        {
          "output_type": "error",
          "ename": "SyntaxError",
          "evalue": "ignored",
          "traceback": [
            "\u001b[0;36m  File \u001b[0;32m\"<ipython-input-4-c7933a228b14>\"\u001b[0;36m, line \u001b[0;32m1\u001b[0m\n\u001b[0;31m    (/content/drive/MyDrive/ColabNotebooks)\u001b[0m\n\u001b[0m     ^\u001b[0m\n\u001b[0;31mSyntaxError\u001b[0m\u001b[0;31m:\u001b[0m invalid syntax\n"
          ]
        }
      ]
    },
    {
      "cell_type": "code",
      "source": [
        "#3. 두 정수를 넘겨받아 큰 수와 작은 수를 구하여 차례대로 return하는 함수 f3()을 정의하시오."
      ],
      "metadata": {
        "id": "406022JIgL1R"
      },
      "execution_count": null,
      "outputs": []
    },
    {
      "cell_type": "code",
      "source": [
        "#4. 세 정수를 넘겨받아 가장 큰 수와 가장 작은 수를 구하여 return하는 함수 f4()를 정의하시오."
      ],
      "metadata": {
        "id": "NblGwWo-gQPY"
      },
      "execution_count": null,
      "outputs": []
    },
    {
      "cell_type": "code",
      "source": [
        "#5. 하나의 리스트를 넘겨받아 원소의 갯수를 return하는 함수 f5()를 정의하시오."
      ],
      "metadata": {
        "id": "VhEVU66agSMI"
      },
      "execution_count": null,
      "outputs": []
    },
    {
      "cell_type": "code",
      "source": [
        "#6. 하나의 리스트를 넘겨받아 가장 큰 수를 구하여 return하는 함수 f6()를 정의하시오."
      ],
      "metadata": {
        "id": "QCysK7zDgTzg"
      },
      "execution_count": null,
      "outputs": []
    },
    {
      "cell_type": "code",
      "source": [
        "#7. 하나의 리스트를 넘겨받아 가장 큰 수와 가장 작은 수의 차를 구하여 return하는 함수 f7()를 정의하시오."
      ],
      "metadata": {
        "id": "A463WRqYgVgA"
      },
      "execution_count": null,
      "outputs": []
    },
    {
      "cell_type": "code",
      "source": [
        "#8. 하나의 리스트를 넘겨받아 전체 원소의 평균을 구하여 return하는 함수 f8()를 정의하시오."
      ],
      "metadata": {
        "id": "ei_wnkUdgXWg"
      },
      "execution_count": null,
      "outputs": []
    },
    {
      "cell_type": "code",
      "source": [
        "#9. 하나의 리스트를 넘겨받아 오름 차순으로 정렬한 후, 원소의 갯수가 홀수개이면 중앙값을 return하고, 짝수개이면 중앙의 두 원소의 평균을 return하는 함수 f9()를 정의하시오."
      ],
      "metadata": {
        "id": "1KrycMfwgZG4"
      },
      "execution_count": null,
      "outputs": []
    },
    {
      "cell_type": "code",
      "source": [
        "#10. 하나의 리스트를 넘겨받아 홀수번째 원소들만을 슬라이싱한 결과를 return하는 함수 f10()를 정의하시오.\n",
        "\n",
        " "
      ],
      "metadata": {
        "id": "c__xsdv-gahg"
      },
      "execution_count": null,
      "outputs": []
    }
  ]
}