{
  "nbformat": 4,
  "nbformat_minor": 0,
  "metadata": {
    "colab": {
      "provenance": [],
      "authorship_tag": "ABX9TyNfIuzzcf7Hy+WvWmQ3NoIM",
      "include_colab_link": true
    },
    "kernelspec": {
      "name": "python3",
      "display_name": "Python 3"
    },
    "language_info": {
      "name": "python"
    },
    "gpuClass": "standard",
    "accelerator": "GPU"
  },
  "cells": [
    {
      "cell_type": "markdown",
      "metadata": {
        "id": "view-in-github",
        "colab_type": "text"
      },
      "source": [
        "<a href=\"https://colab.research.google.com/github/Kidjin04/Test-repo/blob/main/4_4_%EC%88%98%EC%97%85.ipynb\" target=\"_parent\"><img src=\"https://colab.research.google.com/assets/colab-badge.svg\" alt=\"Open In Colab\"/></a>"
      ]
    },
    {
      "cell_type": "code",
      "execution_count": 2,
      "metadata": {
        "colab": {
          "base_uri": "https://localhost:8080/"
        },
        "id": "TY2fuypqzWTN",
        "outputId": "ee5efb95-c072-4de7-bf99-d53a92de3e0c"
      },
      "outputs": [
        {
          "output_type": "stream",
          "name": "stdout",
          "text": [
            "Downloading data from https://www.cs.toronto.edu/~kriz/cifar-10-python.tar.gz\n",
            "170498071/170498071 [==============================] - 3s 0us/step\n"
          ]
        }
      ],
      "source": [
        "import numpy as np\n",
        "import tensorflow as tf\n",
        "from tensorflow.keras.datasets import cifar10\n",
        "from tensorflow.keras.preprocessing.image import ImageDataGenerator\n",
        "\n",
        "(x_train, t_train), (x_test, t_test) = cifar10.load_data()\n",
        "\n",
        "batch_size=32\n",
        "epochs=20\n",
        "n_class=10\n",
        "\n",
        "x_train = x_train / 255 #0에서 1의 범위에 넣는다\n",
        "x_test = x_test/255\n",
        "t_train = tf.keras.utils.to_categorical(t_train, n_class) # one-hot 표현으로\n",
        "t_test = tf.keras.utils.to_categorical(t_test, n_class)\n"
      ]
    },
    {
      "cell_type": "code",
      "source": [
        "from tensorflow.keras.models import Sequential\n",
        "from tensorflow.keras.layers import Dense, Dropout, Activation, Flatten\n",
        "from tensorflow.keras.layers import Conv2D, MaxPooling2D\n",
        "from tensorflow.keras.optimizers import Adam\n",
        "\n",
        "model = Sequential()\n"
      ],
      "metadata": {
        "id": "52QBn6SAz1VR"
      },
      "execution_count": 3,
      "outputs": []
    },
    {
      "cell_type": "code",
      "source": [
        "model.add(Conv2D(32,(3,3), padding='same' , input_shape=x_train.shape[1:])) # 제로 패딩, 배치 크기 이외의 이미지의 형태를 지정\n",
        "model.add(Activation('relu'))\n",
        "model.add(Conv2D(32,(3,3)))\n",
        "model.add(Activation('relu'))\n",
        "model.add(MaxPooling2D(pool_size=(2,2)))\n",
        "\n",
        "model.add(Conv2D(64, (3,3), padding='same'))\n",
        "model.add(Activation('relu'))\n",
        "model.add(Conv2D(64, (3,3)))\n",
        "model.add(Activation('relu'))\n",
        "model.add(MaxPooling2D(pool_size=(2,2)))"
      ],
      "metadata": {
        "id": "mBb2VJUi5rce"
      },
      "execution_count": 4,
      "outputs": []
    },
    {
      "cell_type": "code",
      "source": [
        "model.add(Flatten()) #1차원 배열로 변화\n",
        "model.add(Dense(256))\n",
        "model.add(Activation('relu'))\n",
        "model.add(Dropout(0,5))  #드롭 아웃\n",
        "model.add(Dense(n_class))\n",
        "model.add(Activation('softmax'))\n",
        "\n",
        "model.compile(optimizer=Adam(), loss='categorical_crossentropy',metrics=['accuracy'])\n",
        "model.summary()"
      ],
      "metadata": {
        "colab": {
          "base_uri": "https://localhost:8080/"
        },
        "id": "mX3gF34N8wx0",
        "outputId": "a9232d81-39b0-4462-be14-51e99629567b"
      },
      "execution_count": 5,
      "outputs": [
        {
          "output_type": "stream",
          "name": "stdout",
          "text": [
            "Model: \"sequential\"\n",
            "_________________________________________________________________\n",
            " Layer (type)                Output Shape              Param #   \n",
            "=================================================================\n",
            " conv2d (Conv2D)             (None, 32, 32, 32)        896       \n",
            "                                                                 \n",
            " activation (Activation)     (None, 32, 32, 32)        0         \n",
            "                                                                 \n",
            " conv2d_1 (Conv2D)           (None, 30, 30, 32)        9248      \n",
            "                                                                 \n",
            " activation_1 (Activation)   (None, 30, 30, 32)        0         \n",
            "                                                                 \n",
            " max_pooling2d (MaxPooling2D  (None, 15, 15, 32)       0         \n",
            " )                                                               \n",
            "                                                                 \n",
            " conv2d_2 (Conv2D)           (None, 15, 15, 64)        18496     \n",
            "                                                                 \n",
            " activation_2 (Activation)   (None, 15, 15, 64)        0         \n",
            "                                                                 \n",
            " conv2d_3 (Conv2D)           (None, 13, 13, 64)        36928     \n",
            "                                                                 \n",
            " activation_3 (Activation)   (None, 13, 13, 64)        0         \n",
            "                                                                 \n",
            " max_pooling2d_1 (MaxPooling  (None, 6, 6, 64)         0         \n",
            " 2D)                                                             \n",
            "                                                                 \n",
            " flatten (Flatten)           (None, 2304)              0         \n",
            "                                                                 \n",
            " dense (Dense)               (None, 256)               590080    \n",
            "                                                                 \n",
            " activation_4 (Activation)   (None, 256)               0         \n",
            "                                                                 \n",
            " dropout (Dropout)           (None, 256)               0         \n",
            "                                                                 \n",
            " dense_1 (Dense)             (None, 10)                2570      \n",
            "                                                                 \n",
            " activation_5 (Activation)   (None, 10)                0         \n",
            "                                                                 \n",
            "=================================================================\n",
            "Total params: 658,218\n",
            "Trainable params: 658,218\n",
            "Non-trainable params: 0\n",
            "_________________________________________________________________\n"
          ]
        }
      ]
    },
    {
      "cell_type": "code",
      "source": [
        "from tensorflow.keras.preprocessing.image import ImageDataGenerator\n",
        "\n",
        "generator= ImageDataGenerator(rotation_range=0.2, horizontal_flip=True)\n",
        "generator.fit(x_train)\n",
        "history=model.fit_generator(generator.flow(x_train, t_train, batch_size=batch_size), epochs=epochs, validation_data=(x_test, t_test))"
      ],
      "metadata": {
        "colab": {
          "base_uri": "https://localhost:8080/"
        },
        "id": "di10BY9e-p2r",
        "outputId": "5e92fa10-f2c1-454d-d708-ed8d78d45740"
      },
      "execution_count": 7,
      "outputs": [
        {
          "output_type": "stream",
          "name": "stderr",
          "text": [
            "<ipython-input-7-cdb3d5da439a>:5: UserWarning: `Model.fit_generator` is deprecated and will be removed in a future version. Please use `Model.fit`, which supports generators.\n",
            "  history=model.fit_generator(generator.flow(x_train, t_train, batch_size=batch_size), epochs=epochs, validation_data=(x_test, t_test))\n"
          ]
        },
        {
          "output_type": "stream",
          "name": "stdout",
          "text": [
            "Epoch 1/20\n",
            "1563/1563 [==============================] - 42s 20ms/step - loss: 1.3902 - accuracy: 0.4997 - val_loss: 1.0830 - val_accuracy: 0.6095\n",
            "Epoch 2/20\n",
            "1563/1563 [==============================] - 30s 19ms/step - loss: 0.9272 - accuracy: 0.6742 - val_loss: 0.8232 - val_accuracy: 0.7113\n",
            "Epoch 3/20\n",
            "1563/1563 [==============================] - 29s 19ms/step - loss: 0.7575 - accuracy: 0.7374 - val_loss: 0.7934 - val_accuracy: 0.7269\n",
            "Epoch 4/20\n",
            "1563/1563 [==============================] - 29s 19ms/step - loss: 0.6597 - accuracy: 0.7686 - val_loss: 0.7142 - val_accuracy: 0.7519\n",
            "Epoch 5/20\n",
            "1563/1563 [==============================] - 31s 20ms/step - loss: 0.5866 - accuracy: 0.7967 - val_loss: 0.7331 - val_accuracy: 0.7505\n",
            "Epoch 6/20\n",
            "1563/1563 [==============================] - 30s 19ms/step - loss: 0.5294 - accuracy: 0.8152 - val_loss: 0.6628 - val_accuracy: 0.7753\n",
            "Epoch 7/20\n",
            "1563/1563 [==============================] - 30s 19ms/step - loss: 0.4765 - accuracy: 0.8343 - val_loss: 0.6743 - val_accuracy: 0.7785\n",
            "Epoch 8/20\n",
            "1563/1563 [==============================] - 30s 19ms/step - loss: 0.4304 - accuracy: 0.8492 - val_loss: 0.7689 - val_accuracy: 0.7564\n",
            "Epoch 9/20\n",
            "1563/1563 [==============================] - 30s 19ms/step - loss: 0.3948 - accuracy: 0.8621 - val_loss: 0.7166 - val_accuracy: 0.7737\n",
            "Epoch 10/20\n",
            "1563/1563 [==============================] - 30s 19ms/step - loss: 0.3589 - accuracy: 0.8759 - val_loss: 0.7700 - val_accuracy: 0.7671\n",
            "Epoch 11/20\n",
            "1563/1563 [==============================] - 30s 19ms/step - loss: 0.3232 - accuracy: 0.8888 - val_loss: 0.7842 - val_accuracy: 0.7797\n",
            "Epoch 12/20\n",
            "1563/1563 [==============================] - 31s 20ms/step - loss: 0.2974 - accuracy: 0.8975 - val_loss: 0.8075 - val_accuracy: 0.7656\n",
            "Epoch 13/20\n",
            "1563/1563 [==============================] - 29s 19ms/step - loss: 0.2685 - accuracy: 0.9073 - val_loss: 0.8550 - val_accuracy: 0.7650\n",
            "Epoch 14/20\n",
            "1563/1563 [==============================] - 31s 20ms/step - loss: 0.2454 - accuracy: 0.9154 - val_loss: 0.9485 - val_accuracy: 0.7623\n",
            "Epoch 15/20\n",
            "1563/1563 [==============================] - 31s 20ms/step - loss: 0.2287 - accuracy: 0.9208 - val_loss: 0.9472 - val_accuracy: 0.7605\n",
            "Epoch 16/20\n",
            "1563/1563 [==============================] - 31s 20ms/step - loss: 0.2100 - accuracy: 0.9282 - val_loss: 0.9769 - val_accuracy: 0.7669\n",
            "Epoch 17/20\n",
            "1563/1563 [==============================] - 31s 20ms/step - loss: 0.1891 - accuracy: 0.9339 - val_loss: 1.0200 - val_accuracy: 0.7696\n",
            "Epoch 18/20\n",
            "1563/1563 [==============================] - 31s 20ms/step - loss: 0.1888 - accuracy: 0.9352 - val_loss: 1.0602 - val_accuracy: 0.7675\n",
            "Epoch 19/20\n",
            "1563/1563 [==============================] - 31s 20ms/step - loss: 0.1706 - accuracy: 0.9418 - val_loss: 1.1010 - val_accuracy: 0.7635\n",
            "Epoch 20/20\n",
            "1563/1563 [==============================] - 30s 19ms/step - loss: 0.1608 - accuracy: 0.9460 - val_loss: 1.1495 - val_accuracy: 0.7691\n"
          ]
        }
      ]
    },
    {
      "cell_type": "code",
      "source": [],
      "metadata": {
        "id": "E02dcVyXJGrW"
      },
      "execution_count": null,
      "outputs": []
    }
  ]
}